{
 "cells": [
  {
   "cell_type": "code",
   "execution_count": 1,
   "id": "6ae45605",
   "metadata": {},
   "outputs": [
    {
     "name": "stdout",
     "output_type": "stream",
     "text": [
      "Connected to Elasticsearch!\n",
      "{'cluster_name': 'docker-cluster',\n",
      " 'cluster_uuid': '_jy6LMJiQFudVV9QHpDdWg',\n",
      " 'name': 'ef46826769b8',\n",
      " 'tagline': 'You Know, for Search',\n",
      " 'version': {'build_date': '2025-05-28T10:06:37.834829258Z',\n",
      "             'build_flavor': 'default',\n",
      "             'build_hash': '0a58bc1dc7a4ae5412db66624aab968370bd44ce',\n",
      "             'build_snapshot': False,\n",
      "             'build_type': 'docker',\n",
      "             'lucene_version': '10.1.0',\n",
      "             'minimum_index_compatibility_version': '8.0.0',\n",
      "             'minimum_wire_compatibility_version': '8.18.0',\n",
      "             'number': '9.0.2'}}\n"
     ]
    }
   ],
   "source": [
    "from pprint import pprint\n",
    "from elasticsearch import Elasticsearch\n",
    "\n",
    "es = Elasticsearch('http://localhost:9200')\n",
    "client_info = es.info()\n",
    "print('Connected to Elasticsearch!')\n",
    "pprint(client_info.body)"
   ]
  },
  {
   "cell_type": "code",
   "execution_count": 15,
   "id": "f9b83454",
   "metadata": {},
   "outputs": [
    {
     "data": {
      "text/plain": [
       "ObjectApiResponse({'acknowledged': True})"
      ]
     },
     "execution_count": 15,
     "metadata": {},
     "output_type": "execute_result"
    }
   ],
   "source": [
    "es.indices.delete(index='test')"
   ]
  },
  {
   "cell_type": "code",
   "execution_count": 16,
   "id": "18b8d503",
   "metadata": {},
   "outputs": [
    {
     "name": "stdout",
     "output_type": "stream",
     "text": [
      "Índices encontrados: []\n"
     ]
    }
   ],
   "source": [
    "#list files\n",
    "try:\n",
    "    indices = list(es.indices.get_alias(index=\"*\").keys())\n",
    "    \n",
    "    indices_reais = [idx for idx in indices if not idx.startswith('.')]\n",
    "    print(\"Índices encontrados:\", indices_reais)\n",
    "except Exception as e:\n",
    "    print(f\"Erro ao tentar obter os índices: {e}\")"
   ]
  },
  {
   "cell_type": "code",
   "execution_count": 14,
   "id": "41551086",
   "metadata": {},
   "outputs": [
    {
     "name": "stdout",
     "output_type": "stream",
     "text": [
      "Total documents in 'test': 1\n"
     ]
    }
   ],
   "source": [
    "#list documents\n",
    "index_name = 'test'\n",
    "\n",
    "try:\n",
    "    response = es.count(index=index_name)\n",
    "    total = response['count']\n",
    "    print(f\"Total documents in '{index_name}': {total}\")\n",
    "except Exception as e:\n",
    "    print(f\"Error counting documents: {e}\")"
   ]
  },
  {
   "cell_type": "code",
   "execution_count": null,
   "id": "de1ef82a",
   "metadata": {},
   "outputs": [],
   "source": []
  }
 ],
 "metadata": {
  "kernelspec": {
   "display_name": "env",
   "language": "python",
   "name": "python3"
  },
  "language_info": {
   "codemirror_mode": {
    "name": "ipython",
    "version": 3
   },
   "file_extension": ".py",
   "mimetype": "text/x-python",
   "name": "python",
   "nbconvert_exporter": "python",
   "pygments_lexer": "ipython3",
   "version": "3.13.3"
  }
 },
 "nbformat": 4,
 "nbformat_minor": 5
}
